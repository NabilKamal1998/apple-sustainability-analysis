{
 "cells": [
  {
   "cell_type": "code",
   "execution_count": 1,
   "metadata": {},
   "outputs": [
    {
     "name": "stderr",
     "output_type": "stream",
     "text": [
      "/var/folders/sl/jzcf6d695l390nhhyd2ztnqc0000gn/T/ipykernel_2807/265554930.py:2: DeprecationWarning: \n",
      "Pyarrow will become a required dependency of pandas in the next major release of pandas (pandas 3.0),\n",
      "(to allow more performant data types, such as the Arrow string type, and better interoperability with other libraries)\n",
      "but was not found to be installed on your system.\n",
      "If this would cause problems for you,\n",
      "please provide us feedback at https://github.com/pandas-dev/pandas/issues/54466\n",
      "        \n",
      "  import pandas as pd\n"
     ]
    }
   ],
   "source": [
    "import numpy as np\n",
    "import pandas as pd\n",
    "import matplotlib.pyplot as plt\n",
    "import seaborn as sns"
   ]
  },
  {
   "cell_type": "code",
   "execution_count": 2,
   "metadata": {},
   "outputs": [],
   "source": [
    "df_carbon = pd.read_csv(\"datasets/carbon_footprint_by_product.csv\")\n",
    "df_greenhouse = pd.read_csv(\"datasets/greenhouse_gas_emissions.csv\")\n",
    "df_nf = pd.read_csv(\"datasets/normalizing_factors.csv\")"
   ]
  },
  {
   "cell_type": "code",
   "execution_count": 3,
   "metadata": {},
   "outputs": [
    {
     "data": {
      "text/html": [
       "<div>\n",
       "<style scoped>\n",
       "    .dataframe tbody tr th:only-of-type {\n",
       "        vertical-align: middle;\n",
       "    }\n",
       "\n",
       "    .dataframe tbody tr th {\n",
       "        vertical-align: top;\n",
       "    }\n",
       "\n",
       "    .dataframe thead th {\n",
       "        text-align: right;\n",
       "    }\n",
       "</style>\n",
       "<table border=\"1\" class=\"dataframe\">\n",
       "  <thead>\n",
       "    <tr style=\"text-align: right;\">\n",
       "      <th></th>\n",
       "      <th>Release Year</th>\n",
       "      <th>Product</th>\n",
       "      <th>Baseline Storage</th>\n",
       "      <th>Carbon Footprint</th>\n",
       "    </tr>\n",
       "  </thead>\n",
       "  <tbody>\n",
       "    <tr>\n",
       "      <th>0</th>\n",
       "      <td>2023</td>\n",
       "      <td>iPhone 15</td>\n",
       "      <td>128</td>\n",
       "      <td>56</td>\n",
       "    </tr>\n",
       "    <tr>\n",
       "      <th>1</th>\n",
       "      <td>2022</td>\n",
       "      <td>iPhone 14</td>\n",
       "      <td>128</td>\n",
       "      <td>61</td>\n",
       "    </tr>\n",
       "    <tr>\n",
       "      <th>2</th>\n",
       "      <td>2021</td>\n",
       "      <td>iPhone 13</td>\n",
       "      <td>128</td>\n",
       "      <td>64</td>\n",
       "    </tr>\n",
       "    <tr>\n",
       "      <th>3</th>\n",
       "      <td>2020</td>\n",
       "      <td>iPhone 12</td>\n",
       "      <td>64</td>\n",
       "      <td>70</td>\n",
       "    </tr>\n",
       "    <tr>\n",
       "      <th>4</th>\n",
       "      <td>2019</td>\n",
       "      <td>iPhone 11</td>\n",
       "      <td>64</td>\n",
       "      <td>72</td>\n",
       "    </tr>\n",
       "  </tbody>\n",
       "</table>\n",
       "</div>"
      ],
      "text/plain": [
       "   Release Year    Product  Baseline Storage  Carbon Footprint\n",
       "0          2023  iPhone 15               128                56\n",
       "1          2022  iPhone 14               128                61\n",
       "2          2021  iPhone 13               128                64\n",
       "3          2020  iPhone 12                64                70\n",
       "4          2019  iPhone 11                64                72"
      ]
     },
     "execution_count": 3,
     "metadata": {},
     "output_type": "execute_result"
    }
   ],
   "source": [
    "df_carbon.head()"
   ]
  },
  {
   "cell_type": "code",
   "execution_count": 4,
   "metadata": {},
   "outputs": [
    {
     "data": {
      "text/html": [
       "<div>\n",
       "<style scoped>\n",
       "    .dataframe tbody tr th:only-of-type {\n",
       "        vertical-align: middle;\n",
       "    }\n",
       "\n",
       "    .dataframe tbody tr th {\n",
       "        vertical-align: top;\n",
       "    }\n",
       "\n",
       "    .dataframe thead th {\n",
       "        text-align: right;\n",
       "    }\n",
       "</style>\n",
       "<table border=\"1\" class=\"dataframe\">\n",
       "  <thead>\n",
       "    <tr style=\"text-align: right;\">\n",
       "      <th></th>\n",
       "      <th>Fiscal Year</th>\n",
       "      <th>Category</th>\n",
       "      <th>Type</th>\n",
       "      <th>Scope</th>\n",
       "      <th>Description</th>\n",
       "      <th>Emissions</th>\n",
       "    </tr>\n",
       "  </thead>\n",
       "  <tbody>\n",
       "    <tr>\n",
       "      <th>0</th>\n",
       "      <td>2022</td>\n",
       "      <td>Corporate emissions</td>\n",
       "      <td>Gross emissions</td>\n",
       "      <td>Scope 1</td>\n",
       "      <td>Natural gas, diesel, propane</td>\n",
       "      <td>39700.0</td>\n",
       "    </tr>\n",
       "    <tr>\n",
       "      <th>1</th>\n",
       "      <td>2022</td>\n",
       "      <td>Corporate emissions</td>\n",
       "      <td>Gross emissions</td>\n",
       "      <td>Scope 1</td>\n",
       "      <td>Fleet vehicles</td>\n",
       "      <td>12600.0</td>\n",
       "    </tr>\n",
       "    <tr>\n",
       "      <th>2</th>\n",
       "      <td>2022</td>\n",
       "      <td>Corporate emissions</td>\n",
       "      <td>Gross emissions</td>\n",
       "      <td>Scope 1</td>\n",
       "      <td>Other (R&amp;D processes &amp; refrigerant leaks)</td>\n",
       "      <td>2900.0</td>\n",
       "    </tr>\n",
       "    <tr>\n",
       "      <th>3</th>\n",
       "      <td>2022</td>\n",
       "      <td>Corporate emissions</td>\n",
       "      <td>Gross emissions</td>\n",
       "      <td>Scope 2 (market-based)</td>\n",
       "      <td>Electricity</td>\n",
       "      <td>0.0</td>\n",
       "    </tr>\n",
       "    <tr>\n",
       "      <th>4</th>\n",
       "      <td>2022</td>\n",
       "      <td>Corporate emissions</td>\n",
       "      <td>Gross emissions</td>\n",
       "      <td>Scope 2 (market-based)</td>\n",
       "      <td>Steam, heating, and cooling</td>\n",
       "      <td>3000.0</td>\n",
       "    </tr>\n",
       "  </tbody>\n",
       "</table>\n",
       "</div>"
      ],
      "text/plain": [
       "   Fiscal Year             Category             Type                   Scope  \\\n",
       "0         2022  Corporate emissions  Gross emissions                 Scope 1   \n",
       "1         2022  Corporate emissions  Gross emissions                 Scope 1   \n",
       "2         2022  Corporate emissions  Gross emissions                 Scope 1   \n",
       "3         2022  Corporate emissions  Gross emissions  Scope 2 (market-based)   \n",
       "4         2022  Corporate emissions  Gross emissions  Scope 2 (market-based)   \n",
       "\n",
       "                                 Description  Emissions  \n",
       "0               Natural gas, diesel, propane    39700.0  \n",
       "1                             Fleet vehicles    12600.0  \n",
       "2  Other (R&D processes & refrigerant leaks)     2900.0  \n",
       "3                                Electricity        0.0  \n",
       "4                Steam, heating, and cooling     3000.0  "
      ]
     },
     "execution_count": 4,
     "metadata": {},
     "output_type": "execute_result"
    }
   ],
   "source": [
    "df_greenhouse.head()"
   ]
  },
  {
   "cell_type": "code",
   "execution_count": 5,
   "metadata": {},
   "outputs": [
    {
     "data": {
      "text/html": [
       "<div>\n",
       "<style scoped>\n",
       "    .dataframe tbody tr th:only-of-type {\n",
       "        vertical-align: middle;\n",
       "    }\n",
       "\n",
       "    .dataframe tbody tr th {\n",
       "        vertical-align: top;\n",
       "    }\n",
       "\n",
       "    .dataframe thead th {\n",
       "        text-align: right;\n",
       "    }\n",
       "</style>\n",
       "<table border=\"1\" class=\"dataframe\">\n",
       "  <thead>\n",
       "    <tr style=\"text-align: right;\">\n",
       "      <th></th>\n",
       "      <th>Fiscal Year</th>\n",
       "      <th>Revenue</th>\n",
       "      <th>Market Capitalization</th>\n",
       "      <th>Employees</th>\n",
       "    </tr>\n",
       "  </thead>\n",
       "  <tbody>\n",
       "    <tr>\n",
       "      <th>0</th>\n",
       "      <td>2022</td>\n",
       "      <td>394328</td>\n",
       "      <td>2490</td>\n",
       "      <td>164000</td>\n",
       "    </tr>\n",
       "    <tr>\n",
       "      <th>1</th>\n",
       "      <td>2021</td>\n",
       "      <td>365817</td>\n",
       "      <td>2450</td>\n",
       "      <td>154000</td>\n",
       "    </tr>\n",
       "    <tr>\n",
       "      <th>2</th>\n",
       "      <td>2020</td>\n",
       "      <td>274515</td>\n",
       "      <td>1720</td>\n",
       "      <td>147000</td>\n",
       "    </tr>\n",
       "    <tr>\n",
       "      <th>3</th>\n",
       "      <td>2019</td>\n",
       "      <td>260174</td>\n",
       "      <td>1090</td>\n",
       "      <td>137000</td>\n",
       "    </tr>\n",
       "    <tr>\n",
       "      <th>4</th>\n",
       "      <td>2018</td>\n",
       "      <td>265595</td>\n",
       "      <td>830</td>\n",
       "      <td>132000</td>\n",
       "    </tr>\n",
       "  </tbody>\n",
       "</table>\n",
       "</div>"
      ],
      "text/plain": [
       "   Fiscal Year  Revenue  Market Capitalization  Employees\n",
       "0         2022   394328                   2490     164000\n",
       "1         2021   365817                   2450     154000\n",
       "2         2020   274515                   1720     147000\n",
       "3         2019   260174                   1090     137000\n",
       "4         2018   265595                    830     132000"
      ]
     },
     "execution_count": 5,
     "metadata": {},
     "output_type": "execute_result"
    }
   ],
   "source": [
    "df_nf.head()"
   ]
  },
  {
   "cell_type": "code",
   "execution_count": 6,
   "metadata": {},
   "outputs": [
    {
     "data": {
      "text/plain": [
       "Fiscal Year     0\n",
       "Category        0\n",
       "Type            0\n",
       "Scope          16\n",
       "Description     0\n",
       "Emissions      27\n",
       "dtype: int64"
      ]
     },
     "execution_count": 6,
     "metadata": {},
     "output_type": "execute_result"
    }
   ],
   "source": [
    "df_greenhouse.isnull().sum()"
   ]
  },
  {
   "cell_type": "code",
   "execution_count": 7,
   "metadata": {},
   "outputs": [
    {
     "name": "stderr",
     "output_type": "stream",
     "text": [
      "/var/folders/sl/jzcf6d695l390nhhyd2ztnqc0000gn/T/ipykernel_2807/3184675678.py:1: FutureWarning: A value is trying to be set on a copy of a DataFrame or Series through chained assignment using an inplace method.\n",
      "The behavior will change in pandas 3.0. This inplace method will never work because the intermediate object on which we are setting values always behaves as a copy.\n",
      "\n",
      "For example, when doing 'df[col].method(value, inplace=True)', try using 'df.method({col: value}, inplace=True)' or df[col] = df[col].method(value) instead, to perform the operation inplace on the original object.\n",
      "\n",
      "\n",
      "  df_greenhouse['Scope'].fillna('Unknown', inplace=True)\n",
      "/var/folders/sl/jzcf6d695l390nhhyd2ztnqc0000gn/T/ipykernel_2807/3184675678.py:2: FutureWarning: A value is trying to be set on a copy of a DataFrame or Series through chained assignment using an inplace method.\n",
      "The behavior will change in pandas 3.0. This inplace method will never work because the intermediate object on which we are setting values always behaves as a copy.\n",
      "\n",
      "For example, when doing 'df[col].method(value, inplace=True)', try using 'df.method({col: value}, inplace=True)' or df[col] = df[col].method(value) instead, to perform the operation inplace on the original object.\n",
      "\n",
      "\n",
      "  df_greenhouse['Emissions'].fillna(0,inplace=True)\n"
     ]
    }
   ],
   "source": [
    "df_greenhouse['Scope'].fillna('Unknown', inplace=True)\n",
    "df_greenhouse['Emissions'].fillna(0,inplace=True)"
   ]
  },
  {
   "cell_type": "code",
   "execution_count": 8,
   "metadata": {},
   "outputs": [
    {
     "name": "stdout",
     "output_type": "stream",
     "text": [
      "Total emissions in 2015: 38383470.0\n",
      "Total emissions in 2022: 20279900.0\n",
      "Total emission reduction from 2015 to 2022: 18103570.0\n"
     ]
    }
   ],
   "source": [
    "total_emissions_per_year = df_greenhouse.groupby('Fiscal Year')['Emissions'].sum()\n",
    "\n",
    "emissions_2015 = df_greenhouse[df_greenhouse['Fiscal Year'] == 2015]['Emissions'].sum()\n",
    "\n",
    "emissions_2022 = df_greenhouse[df_greenhouse['Fiscal Year'] == 2022]['Emissions'].sum()\n",
    "\n",
    "reduction = total_emissions_per_year.loc[2015] - total_emissions_per_year.loc[2022]\n",
    "\n",
    "print(\"Total emissions in 2015:\", emissions_2015)\n",
    "\n",
    "print(\"Total emissions in 2022:\", emissions_2022)\n",
    "\n",
    "print(\"Total emission reduction from 2015 to 2022:\", reduction)"
   ]
  },
  {
   "cell_type": "code",
   "execution_count": 9,
   "metadata": {},
   "outputs": [
    {
     "data": {
      "image/png": "[encoded data removed]",
      "text/plain": [
       "<Figure size 1000x600 with 1 Axes>"
      ]
     },
     "metadata": {},
     "output_type": "display_data"
    }
   ],
   "source": [
    "total_emissions_per_year = df_greenhouse.groupby('Fiscal Year')['Emissions'].sum()\n",
    "\n",
    "plt.figure(figsize=(10, 6))\n",
    "plt.plot(total_emissions_per_year.index, total_emissions_per_year.values, marker='o')\n",
    "plt.title('Total Emissions from 2015 to 2022')\n",
    "plt.xlabel('Fiscal Year')\n",
    "plt.ylabel('Total Emissions')\n",
    "plt.grid(True)\n",
    "plt.show()"
   ]
  }
 ],
 "metadata": {
  "kernelspec": {
   "display_name": "Python 3",
   "language": "python",
   "name": "python3"
  },
  "language_info": {
   "codemirror_mode": {
    "name": "ipython",
    "version": 3
   },
   "file_extension": ".py",
   "mimetype": "text/x-python",
   "name": "python",
   "nbconvert_exporter": "python",
   "pygments_lexer": "ipython3",
   "version": "3.11.4"
  }
 },
 "nbformat": 4,
 "nbformat_minor": 2
}
